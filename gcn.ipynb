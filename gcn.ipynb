{
 "cells": [
  {
   "cell_type": "code",
   "execution_count": 4,
   "metadata": {},
   "outputs": [
    {
     "ename": "ModuleNotFoundError",
     "evalue": "No module named 'numpy'",
     "output_type": "error",
     "traceback": [
      "\u001b[0;31m---------------------------------------------------------------------------\u001b[0m",
      "\u001b[0;31mModuleNotFoundError\u001b[0m                       Traceback (most recent call last)",
      "Input \u001b[0;32mIn [4]\u001b[0m, in \u001b[0;36m<module>\u001b[0;34m\u001b[0m\n\u001b[1;32m      1\u001b[0m \u001b[38;5;28;01mfrom\u001b[39;00m \u001b[38;5;21;01mnetworkx\u001b[39;00m \u001b[38;5;28;01mimport\u001b[39;00m karate_club_graph, to_numpy_matrix\n\u001b[1;32m      2\u001b[0m zkx \u001b[38;5;241m=\u001b[39m karate_club_graph()\n\u001b[0;32m----> 3\u001b[0m A \u001b[38;5;241m=\u001b[39m \u001b[43mto_numpy_matrix\u001b[49m\u001b[43m(\u001b[49m\u001b[43mzkx\u001b[49m\u001b[38;5;241;43m.\u001b[39;49m\u001b[43mnodes\u001b[49m\u001b[43m(\u001b[49m\u001b[43m)\u001b[49m\u001b[43m)\u001b[49m\n\u001b[1;32m      4\u001b[0m \u001b[38;5;28mprint\u001b[39m(node_list)\n",
      "File \u001b[0;32m~/.local/lib/python3.10/site-packages/networkx/convert_matrix.py:580\u001b[0m, in \u001b[0;36mto_numpy_matrix\u001b[0;34m(G, nodelist, dtype, order, multigraph_weight, weight, nonedge)\u001b[0m\n\u001b[1;32m    481\u001b[0m \u001b[38;5;124;03m\"\"\"Returns the graph adjacency matrix as a NumPy matrix.\u001b[39;00m\n\u001b[1;32m    482\u001b[0m \n\u001b[1;32m    483\u001b[0m \u001b[38;5;124;03mParameters\u001b[39;00m\n\u001b[0;32m   (...)\u001b[0m\n\u001b[1;32m    570\u001b[0m \n\u001b[1;32m    571\u001b[0m \u001b[38;5;124;03m\"\"\"\u001b[39;00m\n\u001b[1;32m    572\u001b[0m warnings\u001b[38;5;241m.\u001b[39mwarn(\n\u001b[1;32m    573\u001b[0m     (\n\u001b[1;32m    574\u001b[0m         \u001b[38;5;124m\"\u001b[39m\u001b[38;5;124mto_numpy_matrix is deprecated and will be removed in NetworkX 3.0.\u001b[39m\u001b[38;5;130;01m\\n\u001b[39;00m\u001b[38;5;124m\"\u001b[39m\n\u001b[0;32m   (...)\u001b[0m\n\u001b[1;32m    577\u001b[0m     \u001b[38;5;167;01mDeprecationWarning\u001b[39;00m,\n\u001b[1;32m    578\u001b[0m )\n\u001b[0;32m--> 580\u001b[0m \u001b[38;5;28;01mimport\u001b[39;00m \u001b[38;5;21;01mnumpy\u001b[39;00m \u001b[38;5;28;01mas\u001b[39;00m \u001b[38;5;21;01mnp\u001b[39;00m\n\u001b[1;32m    582\u001b[0m A \u001b[38;5;241m=\u001b[39m to_numpy_array(\n\u001b[1;32m    583\u001b[0m     G,\n\u001b[1;32m    584\u001b[0m     nodelist\u001b[38;5;241m=\u001b[39mnodelist,\n\u001b[0;32m   (...)\u001b[0m\n\u001b[1;32m    589\u001b[0m     nonedge\u001b[38;5;241m=\u001b[39mnonedge,\n\u001b[1;32m    590\u001b[0m )\n\u001b[1;32m    591\u001b[0m M \u001b[38;5;241m=\u001b[39m np\u001b[38;5;241m.\u001b[39masmatrix(A, dtype\u001b[38;5;241m=\u001b[39mdtype)\n",
      "\u001b[0;31mModuleNotFoundError\u001b[0m: No module named 'numpy'"
     ]
    }
   ],
   "source": [
    "from networkx import karate_club_graph, to_numpy_matrix\n",
    "zkx = karate_club_graph()\n",
    "A = to_numpy_matrix(zkx.nodes())\n",
    "print(node_list)\n",
    "\n",
    " "
   ]
  },
  {
   "cell_type": "code",
   "execution_count": 1,
   "metadata": {},
   "outputs": [
    {
     "ename": "ModuleNotFoundError",
     "evalue": "No module named 'numpy'",
     "output_type": "error",
     "traceback": [
      "\u001b[0;31m---------------------------------------------------------------------------\u001b[0m",
      "\u001b[0;31mModuleNotFoundError\u001b[0m                       Traceback (most recent call last)",
      "Input \u001b[0;32mIn [1]\u001b[0m, in \u001b[0;36m<module>\u001b[0;34m\u001b[0m\n\u001b[0;32m----> 1\u001b[0m \u001b[38;5;28;01mimport\u001b[39;00m \u001b[38;5;21;01mnumpy\u001b[39;00m \u001b[38;5;28;01mas\u001b[39;00m \u001b[38;5;21;01mnp\u001b[39;00m\n\u001b[1;32m      2\u001b[0m I \u001b[38;5;241m=\u001b[39m np\u001b[38;5;241m.\u001b[39meye(A\u001b[38;5;241m.\u001b[39mshape[\u001b[38;5;241m1\u001b[39m])\n\u001b[1;32m      3\u001b[0m Ahat \u001b[38;5;241m=\u001b[39m A \u001b[38;5;241m+\u001b[39m I\n",
      "\u001b[0;31mModuleNotFoundError\u001b[0m: No module named 'numpy'"
     ]
    }
   ],
   "source": [
    "import numpy as np\n",
    "I = np.eye(A.shape[1])\n",
    "Ahat = A + I\n",
    "Dhat = np.matrix(np.sum(Ahat , axis=0))[0]\n",
    "\n",
    "Dhat = np.dig(Dhat)"
   ]
  },
  {
   "cell_type": "code",
   "execution_count": null,
   "metadata": {},
   "outputs": [],
   "source": [
    "w1 = np.random.normal(\n",
    "    size=(Ahat.shape[0], 4)\n",
    ")\n",
    "w2 = np.random.normal(\n",
    "    size=(Ahat.shape[0], 4)\n",
    ")\n",
    "def gcn(Ahat, Dhat, X, W):\n",
    "    return Dhat**-1*Ahat*X*W\n",
    "\n",
    "h1 = gcn(Ahat, Dhat, I, w1)\n",
    "h2 = gcn(Ahat, Dhat, h1, w2)\n"
   ]
  }
 ],
 "metadata": {
  "interpreter": {
   "hash": "e7370f93d1d0cde622a1f8e1c04877d8463912d04d973331ad4851f04de6915a"
  },
  "kernelspec": {
   "display_name": "Python 3.9.9 64-bit",
   "language": "python",
   "name": "python3"
  },
  "language_info": {
   "codemirror_mode": {
    "name": "ipython",
    "version": 3
   },
   "file_extension": ".py",
   "mimetype": "text/x-python",
   "name": "python",
   "nbconvert_exporter": "python",
   "pygments_lexer": "ipython3",
   "version": "3.10.1"
  },
  "orig_nbformat": 4
 },
 "nbformat": 4,
 "nbformat_minor": 2
}
